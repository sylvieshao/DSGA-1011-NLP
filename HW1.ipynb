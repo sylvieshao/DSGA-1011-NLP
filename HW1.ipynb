{
 "cells": [
  {
   "cell_type": "code",
   "execution_count": 1,
   "metadata": {},
   "outputs": [],
   "source": [
    "import os\n",
    "import pandas as pd\n",
    "from sklearn.model_selection import train_test_split\n",
    "import spacy\n",
    "import string\n",
    "from tqdm import tqdm_notebook\n",
    "from collections import Counter\n",
    "from spacy.tokens import Token\n",
    "import pickle as pkl\n",
    "from nltk.util import ngrams\n",
    "import numpy as np\n",
    "import torch\n",
    "from torch.utils.data import Dataset\n",
    "import torch.nn as nn\n",
    "import torch.nn.functional as F\n",
    "from torch.optim import lr_scheduler\n",
    "import matplotlib.pyplot as plt\n",
    "%matplotlib inline"
   ]
  },
  {
   "cell_type": "code",
   "execution_count": 2,
   "metadata": {},
   "outputs": [],
   "source": [
    "def read_data(data, sentiment):\n",
    "    X = []\n",
    "    Y = []\n",
    "    path = os.getcwd() + '/aclImdb/' + data + '/' + sentiment + '/'\n",
    "    files = os.listdir(path)\n",
    "    \n",
    "    for i in files:\n",
    "        with open(path + i, 'r') as f:\n",
    "            X.append(f.readlines()[0])\n",
    "            if sentiment == 'pos':\n",
    "                Y.append(1)\n",
    "            else:\n",
    "                Y.append(0)\n",
    "    return X, Y"
   ]
  },
  {
   "cell_type": "code",
   "execution_count": 3,
   "metadata": {},
   "outputs": [
    {
     "name": "stderr",
     "output_type": "stream",
     "text": [
      "/anaconda3/lib/python3.6/site-packages/sklearn/model_selection/_split.py:2026: FutureWarning: From version 0.21, test_size will always complement train_size unless both are specified.\n",
      "  FutureWarning)\n"
     ]
    }
   ],
   "source": [
    "train_X_pos, train_Y_pos = read_data('train', 'pos')\n",
    "train_X_neg, train_Y_neg = read_data('train', 'neg')\n",
    "test_X_pos, test_Y_pos = read_data('test', 'pos')\n",
    "test_X_neg, test_Y_neg = read_data('test', 'neg')\n",
    "\n",
    "train_X = train_X_pos + train_X_neg\n",
    "train_Y = train_Y_pos + train_Y_neg\n",
    "test_X = test_X_pos + test_X_neg\n",
    "test_Y = test_Y_pos + test_Y_neg\n",
    "\n",
    "train_X, val_X, train_Y, val_Y = train_test_split(train_X, train_Y, train_size = 0.8, shuffle = True)"
   ]
  },
  {
   "cell_type": "code",
   "execution_count": 4,
   "metadata": {},
   "outputs": [],
   "source": [
    "tokenizer = spacy.load('en_core_web_sm')\n",
    "punctuations = string.punctuation\n",
    "stopwords = tokenizer.Defaults.stop_words\n",
    "\n",
    "def preprocess(review, remove_html, remove_punc, remove_stopwords):\n",
    "    preprocessed = []\n",
    "    \n",
    "    if remove_html == 'yes' and remove_punc == 'yes' and remove_stopwords == 'yes':\n",
    "        for token in review:\n",
    "            token = token.text.replace('<br', '').replace('/>', '').lower()\n",
    "            if token not in punctuations and token not in stopwords and token != ' ':\n",
    "                preprocessed.append(token)\n",
    "                \n",
    "    elif remove_html == 'yes' and remove_punc == 'yes':\n",
    "        for token in review:\n",
    "            token = token.text.replace('<br', '').replace('/>', '').lower()\n",
    "            if token not in punctuations and token != ' ':\n",
    "                preprocessed.append(token)\n",
    "                \n",
    "    elif remove_html == 'yes' and remove_stopwords == 'yes':\n",
    "        for token in review:\n",
    "            token = token.text.replace('<br', '').replace('/>', '').lower()\n",
    "            if token not in stopwords and token != ' ':\n",
    "                preprocessed.append(token)\n",
    "                \n",
    "    elif remove_punc == 'yes' and remove_stopwords == 'yes':\n",
    "        for token in review:\n",
    "            token = token.text.lower()\n",
    "            if token not in punctuations and token not in stopwords and token != ' ':\n",
    "                preprocessed.append(token)\n",
    "                \n",
    "    elif remove_punc == 'yes':\n",
    "        for token in review:\n",
    "            token = token.text.lower()\n",
    "            if token not in punctuations:\n",
    "                preprocessed.append(token)\n",
    "                \n",
    "    elif remove_html == 'yes':\n",
    "        for token in review:\n",
    "            token = token.text.replace('<br', '').replace('/>', '').lower()\n",
    "            if token != ' ':\n",
    "                preprocessed.append(token)\n",
    "        \n",
    "    elif remove_stopwords == 'yes':\n",
    "        for token in review:\n",
    "            token = token.text.lower()\n",
    "            if token not in stopwords and token != ' ':\n",
    "                preprocessed.append(token)\n",
    "                \n",
    "    else:\n",
    "        preprocessed = [token.text for token in review]\n",
    "        \n",
    "    return preprocessed\n",
    "\n",
    "def tokenize_dataset(dataset, remove_html, remove_punc, remove_stopwords, ngram):\n",
    "    token_dataset = []\n",
    "    all_tokens = []\n",
    "    \n",
    "    for i in tqdm_notebook(tokenizer.pipe(dataset, \n",
    "                                          disable=['parser', 'tagger', 'ner'], \n",
    "                                          batch_size=512, \n",
    "                                          n_threads=1)):\n",
    "        tokens = preprocess(i, remove_html = remove_html, remove_punc = remove_punc, remove_stopwords = remove_stopwords)\n",
    "        tokens_ = tokens.copy()\n",
    "        for i in range(2, ngram+1):\n",
    "            n_grams = ngrams(tokens, i)\n",
    "            token_n_grams = [' '.join(grams) for grams in n_grams]\n",
    "            tokens_ += token_n_grams\n",
    "        \n",
    "        token_dataset.append(tokens_)\n",
    "        all_tokens += tokens\n",
    "    return token_dataset, all_tokens"
   ]
  },
  {
   "cell_type": "code",
   "execution_count": 112,
   "metadata": {},
   "outputs": [
    {
     "name": "stdout",
     "output_type": "stream",
     "text": [
      "Tokenizing train data\n"
     ]
    },
    {
     "data": {
      "application/vnd.jupyter.widget-view+json": {
       "model_id": "51c48f4628ec45d4a7a31c605101e308",
       "version_major": 2,
       "version_minor": 0
      },
      "text/plain": [
       "HBox(children=(IntProgress(value=1, bar_style='info', max=1), HTML(value='')))"
      ]
     },
     "metadata": {},
     "output_type": "display_data"
    },
    {
     "name": "stdout",
     "output_type": "stream",
     "text": [
      "\n",
      "Tokenizing validation data\n"
     ]
    },
    {
     "data": {
      "application/vnd.jupyter.widget-view+json": {
       "model_id": "15caf6205c434157befcacf649ae2c5f",
       "version_major": 2,
       "version_minor": 0
      },
      "text/plain": [
       "HBox(children=(IntProgress(value=1, bar_style='info', max=1), HTML(value='')))"
      ]
     },
     "metadata": {},
     "output_type": "display_data"
    },
    {
     "name": "stdout",
     "output_type": "stream",
     "text": [
      "\n",
      "Tokenizing test data\n"
     ]
    },
    {
     "data": {
      "application/vnd.jupyter.widget-view+json": {
       "model_id": "9ca33223cf5a4a49acd28e24d5a0aeb9",
       "version_major": 2,
       "version_minor": 0
      },
      "text/plain": [
       "HBox(children=(IntProgress(value=1, bar_style='info', max=1), HTML(value='')))"
      ]
     },
     "metadata": {},
     "output_type": "display_data"
    },
    {
     "name": "stdout",
     "output_type": "stream",
     "text": [
      "\n"
     ]
    }
   ],
   "source": [
    "#parameters\n",
    "remove_html = 'yes'\n",
    "remove_punc = 'yes'\n",
    "remove_stopwords = 'yes'\n",
    "ngram = 1\n",
    "max_vocab_size = 30000\n",
    "MAX_SENTENCE_LENGTH = 200\n",
    "\n",
    "\n",
    "print (\"Tokenizing train data\")\n",
    "train_tokens, all_train_tokens = tokenize_dataset(train_X, remove_html = remove_html, remove_punc = remove_punc, remove_stopwords = remove_stopwords, ngram = ngram)\n",
    "\n",
    "print (\"Tokenizing validation data\")\n",
    "val_tokens, _ = tokenize_dataset(val_X, remove_html = remove_html, remove_punc = remove_punc, remove_stopwords = remove_stopwords, ngram = ngram)\n",
    "\n",
    "print (\"Tokenizing test data\")\n",
    "test_tokens, _ = tokenize_dataset(test_X, remove_html = remove_html, remove_punc = remove_punc, remove_stopwords = remove_stopwords, ngram = ngram)"
   ]
  },
  {
   "cell_type": "code",
   "execution_count": 113,
   "metadata": {},
   "outputs": [],
   "source": [
    "# save index 0 for unk and 1 for pad\n",
    "PAD_IDX = 0\n",
    "UNK_IDX = 1\n",
    "\n",
    "def build_vocab(all_tokens):\n",
    "    # Returns:\n",
    "    # id2token: list of tokens, where id2token[i] returns token that corresponds to token i\n",
    "    # token2id: dictionary where keys represent tokens and corresponding values represent indices\n",
    "    token_counter = Counter(all_tokens)\n",
    "    vocab, count = zip(*token_counter.most_common(max_vocab_size))\n",
    "    id2token = list(vocab)\n",
    "    token2id = dict(zip(vocab, range(2,2+len(vocab)))) \n",
    "    id2token = ['<pad>', '<unk>'] + id2token\n",
    "    token2id['<pad>'] = PAD_IDX \n",
    "    token2id['<unk>'] = UNK_IDX\n",
    "    return token2id, id2token\n",
    "\n",
    "token2id, id2token = build_vocab(all_train_tokens)"
   ]
  },
  {
   "cell_type": "code",
   "execution_count": 114,
   "metadata": {},
   "outputs": [],
   "source": [
    "# convert token to id in the dataset\n",
    "def token2index_dataset(tokens_data):\n",
    "    indices_data = []\n",
    "    for tokens in tokens_data:\n",
    "        index_list = [token2id[token] if token in token2id else UNK_IDX for token in tokens]\n",
    "        indices_data.append(index_list)\n",
    "    return indices_data\n",
    "\n",
    "train_data_indices = token2index_dataset(train_tokens)\n",
    "val_data_indices = token2index_dataset(val_tokens)\n",
    "test_data_indices = token2index_dataset(test_tokens)"
   ]
  },
  {
   "cell_type": "code",
   "execution_count": 115,
   "metadata": {},
   "outputs": [],
   "source": [
    "class reviewDataset(Dataset):\n",
    "    \"\"\"\n",
    "    Class that represents a train/validation/test dataset that's readable for PyTorch\n",
    "    Note that this class inherits torch.utils.data.Dataset\n",
    "    \"\"\"\n",
    "    \n",
    "    def __init__(self, data_list, target_list):\n",
    "        \"\"\"\n",
    "        @param data_list: list of review tokens \n",
    "        @param target_list: list of review targets \n",
    "\n",
    "        \"\"\"\n",
    "        self.data_list = data_list\n",
    "        self.target_list = target_list\n",
    "        assert (len(self.data_list) == len(self.target_list))\n",
    "\n",
    "    def __len__(self):\n",
    "        return len(self.data_list)\n",
    "        \n",
    "    def __getitem__(self, key):\n",
    "        \"\"\"\n",
    "        Triggered when you call dataset[i]\n",
    "        \"\"\"\n",
    "        \n",
    "        token_idx = self.data_list[key][:MAX_SENTENCE_LENGTH]\n",
    "        label = self.target_list[key]\n",
    "        return [token_idx, len(token_idx), label]\n",
    "\n",
    "def review_collate_func(batch):\n",
    "    \"\"\"\n",
    "    Customized function for DataLoader that dynamically pads the batch so that all \n",
    "    data have the same length\n",
    "    \"\"\"\n",
    "    data_list = []\n",
    "    label_list = []\n",
    "    length_list = []\n",
    "    \n",
    "    for datum in batch:\n",
    "        label_list.append(datum[2])\n",
    "        length_list.append(datum[1])\n",
    "    # padding\n",
    "    for datum in batch:\n",
    "        padded_vec = np.pad(np.array(datum[0]), \n",
    "                                pad_width=((0,MAX_SENTENCE_LENGTH-datum[1])), \n",
    "                                mode=\"constant\", constant_values=0)\n",
    "        data_list.append(padded_vec)\n",
    "    return [torch.from_numpy(np.array(data_list)), torch.LongTensor(length_list), torch.LongTensor(label_list)]\n",
    "\n",
    "# create pytorch dataloader\n",
    "\n",
    "BATCH_SIZE = 32\n",
    "train_dataset = reviewDataset(train_data_indices, train_Y)\n",
    "train_loader = torch.utils.data.DataLoader(dataset=train_dataset, \n",
    "                                           batch_size=BATCH_SIZE,\n",
    "                                           collate_fn=review_collate_func,\n",
    "                                           shuffle=True)\n",
    "\n",
    "val_dataset = reviewDataset(val_data_indices, val_Y)\n",
    "val_loader = torch.utils.data.DataLoader(dataset=val_dataset,\n",
    "                                         batch_size=BATCH_SIZE,\n",
    "                                         collate_fn=review_collate_func,\n",
    "                                         shuffle=True)\n",
    "\n",
    "test_dataset = reviewDataset(test_data_indices, test_Y)\n",
    "test_loader = torch.utils.data.DataLoader(dataset=test_dataset,\n",
    "                                          batch_size=BATCH_SIZE,\n",
    "                                          collate_fn=review_collate_func,\n",
    "                                          shuffle=False)"
   ]
  },
  {
   "cell_type": "code",
   "execution_count": 116,
   "metadata": {},
   "outputs": [],
   "source": [
    "class BagOfWords(nn.Module):\n",
    "    \"\"\"\n",
    "    BagOfWords classification model\n",
    "    \"\"\"\n",
    "    def __init__(self, vocab_size, emb_dim):\n",
    "        \"\"\"\n",
    "        @param vocab_size: size of the vocabulary. \n",
    "        @param emb_dim: size of the word embedding\n",
    "        \"\"\"\n",
    "        super(BagOfWords, self).__init__()\n",
    "        # pay attention to padding_idx \n",
    "        self.embed = nn.Embedding(vocab_size, emb_dim, padding_idx=0)\n",
    "        self.linear = nn.Linear(emb_dim,20)\n",
    "    \n",
    "    def forward(self, data, length):\n",
    "        \"\"\"\n",
    "        \n",
    "        @param data: matrix of size (batch_size, max_sentence_length). Each row in data represents a \n",
    "            review that is represented using n-gram index. Note that they are padded to have same length.\n",
    "        @param length: an int tensor of size (batch_size), which represents the non-trivial (excludes padding)\n",
    "            length of each sentences in the data.\n",
    "        \"\"\"\n",
    "        out = self.embed(data)\n",
    "        out = torch.sum(out, dim=1)\n",
    "        out /= length.view(length.size()[0],1).expand_as(out).float()\n",
    "     \n",
    "        # return logits\n",
    "        out = self.linear(out.float())\n",
    "        return out"
   ]
  },
  {
   "cell_type": "code",
   "execution_count": 136,
   "metadata": {
    "scrolled": false
   },
   "outputs": [
    {
     "name": "stdout",
     "output_type": "stream",
     "text": [
      "Epoch: [1/10], Step: [101/625], Training Loss: 0.4864580035209656, Train Acc: 83.94, Validation Acc: 82.82\n",
      "Epoch: [1/10], Step: [201/625], Training Loss: 0.4438627362251282, Train Acc: 88.98, Validation Acc: 86.92\n",
      "Epoch: [1/10], Step: [301/625], Training Loss: 0.6934552788734436, Train Acc: 91.54, Validation Acc: 88.62\n",
      "Epoch: [1/10], Step: [401/625], Training Loss: 0.271560937166214, Train Acc: 92.865, Validation Acc: 88.8\n",
      "Epoch: [1/10], Step: [501/625], Training Loss: 0.37702676653862, Train Acc: 94.47, Validation Acc: 88.9\n",
      "Epoch: [1/10], Step: [601/625], Training Loss: 0.25000664591789246, Train Acc: 95.5, Validation Acc: 88.62\n",
      "Epoch: [2/10], Step: [101/625], Training Loss: 0.17669811844825745, Train Acc: 96.585, Validation Acc: 89.86\n",
      "Epoch: [2/10], Step: [201/625], Training Loss: 0.12436854839324951, Train Acc: 96.69, Validation Acc: 89.86\n",
      "Epoch: [2/10], Step: [301/625], Training Loss: 0.14054833352565765, Train Acc: 96.755, Validation Acc: 89.82\n",
      "Epoch: [2/10], Step: [401/625], Training Loss: 0.08030828833580017, Train Acc: 96.865, Validation Acc: 89.78\n",
      "Epoch: [2/10], Step: [501/625], Training Loss: 0.24749749898910522, Train Acc: 96.915, Validation Acc: 89.78\n",
      "Epoch: [2/10], Step: [601/625], Training Loss: 0.22749143838882446, Train Acc: 97.1, Validation Acc: 90.1\n",
      "Epoch: [3/10], Step: [101/625], Training Loss: 0.17535598576068878, Train Acc: 97.14, Validation Acc: 90.04\n",
      "Epoch: [3/10], Step: [201/625], Training Loss: 0.062230393290519714, Train Acc: 97.17, Validation Acc: 90.16\n",
      "Epoch: [3/10], Step: [301/625], Training Loss: 0.0364275723695755, Train Acc: 97.195, Validation Acc: 90.1\n",
      "Epoch: [3/10], Step: [401/625], Training Loss: 0.08410128951072693, Train Acc: 97.16, Validation Acc: 90.12\n",
      "Epoch: [3/10], Step: [501/625], Training Loss: 0.07886509597301483, Train Acc: 97.16, Validation Acc: 90.04\n",
      "Epoch: [3/10], Step: [601/625], Training Loss: 0.059550896286964417, Train Acc: 97.22, Validation Acc: 90.12\n",
      "Epoch: [4/10], Step: [101/625], Training Loss: 0.048923127353191376, Train Acc: 97.2, Validation Acc: 90.06\n",
      "Epoch: [4/10], Step: [201/625], Training Loss: 0.09589646756649017, Train Acc: 97.2, Validation Acc: 90.06\n",
      "Epoch: [4/10], Step: [301/625], Training Loss: 0.04759271442890167, Train Acc: 97.2, Validation Acc: 90.08\n",
      "Epoch: [4/10], Step: [401/625], Training Loss: 0.1109774187207222, Train Acc: 97.205, Validation Acc: 90.08\n",
      "Epoch: [4/10], Step: [501/625], Training Loss: 0.03631645441055298, Train Acc: 97.21, Validation Acc: 90.12\n",
      "Epoch: [4/10], Step: [601/625], Training Loss: 0.19603542983531952, Train Acc: 97.21, Validation Acc: 90.12\n",
      "Epoch: [5/10], Step: [101/625], Training Loss: 0.06758475303649902, Train Acc: 97.21, Validation Acc: 90.12\n",
      "Epoch: [5/10], Step: [201/625], Training Loss: 0.1949446052312851, Train Acc: 97.21, Validation Acc: 90.12\n",
      "Epoch: [5/10], Step: [301/625], Training Loss: 0.09352454543113708, Train Acc: 97.21, Validation Acc: 90.12\n",
      "Epoch: [5/10], Step: [401/625], Training Loss: 0.06073319911956787, Train Acc: 97.21, Validation Acc: 90.12\n",
      "Epoch: [5/10], Step: [501/625], Training Loss: 0.0577496737241745, Train Acc: 97.21, Validation Acc: 90.12\n",
      "Epoch: [5/10], Step: [601/625], Training Loss: 0.12266239523887634, Train Acc: 97.21, Validation Acc: 90.12\n",
      "Epoch: [6/10], Step: [101/625], Training Loss: 0.0571342408657074, Train Acc: 97.21, Validation Acc: 90.12\n",
      "Epoch: [6/10], Step: [201/625], Training Loss: 0.07693241536617279, Train Acc: 97.21, Validation Acc: 90.12\n",
      "Epoch: [6/10], Step: [301/625], Training Loss: 0.11734296381473541, Train Acc: 97.21, Validation Acc: 90.12\n",
      "Epoch: [6/10], Step: [401/625], Training Loss: 0.19390448927879333, Train Acc: 97.21, Validation Acc: 90.12\n",
      "Epoch: [6/10], Step: [501/625], Training Loss: 0.15463769435882568, Train Acc: 97.21, Validation Acc: 90.12\n",
      "Epoch: [6/10], Step: [601/625], Training Loss: 0.04576730728149414, Train Acc: 97.21, Validation Acc: 90.12\n",
      "Epoch: [7/10], Step: [101/625], Training Loss: 0.0713844746351242, Train Acc: 97.21, Validation Acc: 90.12\n",
      "Epoch: [7/10], Step: [201/625], Training Loss: 0.19663295149803162, Train Acc: 97.21, Validation Acc: 90.12\n",
      "Epoch: [7/10], Step: [301/625], Training Loss: 0.1883731484413147, Train Acc: 97.21, Validation Acc: 90.12\n",
      "Epoch: [7/10], Step: [401/625], Training Loss: 0.10542687773704529, Train Acc: 97.21, Validation Acc: 90.12\n",
      "Epoch: [7/10], Step: [501/625], Training Loss: 0.1311933398246765, Train Acc: 97.21, Validation Acc: 90.12\n",
      "Epoch: [7/10], Step: [601/625], Training Loss: 0.1162603422999382, Train Acc: 97.21, Validation Acc: 90.12\n",
      "Epoch: [8/10], Step: [101/625], Training Loss: 0.07712201774120331, Train Acc: 97.21, Validation Acc: 90.12\n",
      "Epoch: [8/10], Step: [201/625], Training Loss: 0.03189212083816528, Train Acc: 97.21, Validation Acc: 90.12\n",
      "Epoch: [8/10], Step: [301/625], Training Loss: 0.08501462638378143, Train Acc: 97.21, Validation Acc: 90.12\n",
      "Epoch: [8/10], Step: [401/625], Training Loss: 0.07544159889221191, Train Acc: 97.21, Validation Acc: 90.12\n",
      "Epoch: [8/10], Step: [501/625], Training Loss: 0.09849132597446442, Train Acc: 97.21, Validation Acc: 90.12\n",
      "Epoch: [8/10], Step: [601/625], Training Loss: 0.06582780182361603, Train Acc: 97.21, Validation Acc: 90.12\n",
      "Epoch: [9/10], Step: [101/625], Training Loss: 0.04755769670009613, Train Acc: 97.21, Validation Acc: 90.12\n",
      "Epoch: [9/10], Step: [201/625], Training Loss: 0.19838359951972961, Train Acc: 97.21, Validation Acc: 90.12\n",
      "Epoch: [9/10], Step: [301/625], Training Loss: 0.10657256841659546, Train Acc: 97.21, Validation Acc: 90.12\n",
      "Epoch: [9/10], Step: [401/625], Training Loss: 0.06574361026287079, Train Acc: 97.21, Validation Acc: 90.12\n",
      "Epoch: [9/10], Step: [501/625], Training Loss: 0.055861830711364746, Train Acc: 97.21, Validation Acc: 90.12\n",
      "Epoch: [9/10], Step: [601/625], Training Loss: 0.17164066433906555, Train Acc: 97.21, Validation Acc: 90.12\n",
      "Epoch: [10/10], Step: [101/625], Training Loss: 0.06320665776729584, Train Acc: 97.21, Validation Acc: 90.12\n",
      "Epoch: [10/10], Step: [201/625], Training Loss: 0.12056692689657211, Train Acc: 97.21, Validation Acc: 90.12\n",
      "Epoch: [10/10], Step: [301/625], Training Loss: 0.1179981380701065, Train Acc: 97.21, Validation Acc: 90.12\n",
      "Epoch: [10/10], Step: [401/625], Training Loss: 0.05675436556339264, Train Acc: 97.21, Validation Acc: 90.12\n",
      "Epoch: [10/10], Step: [501/625], Training Loss: 0.10842157900333405, Train Acc: 97.21, Validation Acc: 90.12\n",
      "Epoch: [10/10], Step: [601/625], Training Loss: 0.11683806777000427, Train Acc: 97.21, Validation Acc: 90.12\n"
     ]
    }
   ],
   "source": [
    "#Parameters\n",
    "emb_dim = 100\n",
    "learning_rate = 0.01\n",
    "num_epochs = 10 # number epoch to train\n",
    "\n",
    "model = BagOfWords(len(id2token), emb_dim)\n",
    "\n",
    "# Criterion and Optimizer\n",
    "criterion = torch.nn.CrossEntropyLoss()  \n",
    "\n",
    "# Linear annealing of learning rate\n",
    "step_size = 1\n",
    "optimizer = torch.optim.Adam(model.parameters(), lr=learning_rate)\n",
    "# optimizer = torch.optim.SGD(model.parameters(), lr=learning_rate)\n",
    "scheduler = lr_scheduler.StepLR(optimizer, step_size, gamma = 0.1, last_epoch = -1)\n",
    "\n",
    "# Function for testing the model\n",
    "def test_model(loader, model):\n",
    "    \"\"\"\n",
    "    Help function that tests the model's performance on a dataset\n",
    "    @param: loader - data loader for the dataset to test against\n",
    "    \"\"\"\n",
    "    correct = 0\n",
    "    total = 0\n",
    "    model.eval()\n",
    "    for data, lengths, labels in loader:\n",
    "        data_batch, length_batch, label_batch = data, lengths, labels\n",
    "        outputs = F.softmax(model(data_batch, length_batch), dim=1)\n",
    "        predicted = outputs.max(1, keepdim=True)[1]\n",
    "        \n",
    "        total += labels.size(0)\n",
    "        correct += predicted.eq(labels.view_as(predicted)).sum().item()\n",
    "    return (100 * correct / total)\n",
    "\n",
    "loss_hist = []\n",
    "val_acc_hist = []\n",
    "for epoch in range(num_epochs):\n",
    "    scheduler.step()\n",
    "    for i, (data, lengths, labels) in enumerate(train_loader):\n",
    "        model.train()\n",
    "        data_batch, length_batch, label_batch = data, lengths, labels\n",
    "        optimizer.zero_grad()\n",
    "        outputs = model(data_batch, length_batch)\n",
    "        loss = criterion(outputs, label_batch)\n",
    "        loss.backward()\n",
    "        optimizer.step()\n",
    "        if i > 0 and i % 100 == 0:\n",
    "            train_acc = test_model(train_loader, model)\n",
    "            val_acc = test_model(val_loader, model)\n",
    "            loss_ = loss.item()\n",
    "            print('Epoch: [{}/{}], Step: [{}/{}], Training Loss: {}, Train Acc: {}, Validation Acc: {}'.format( \n",
    "                       epoch+1, num_epochs, i+1, len(train_loader), loss_, train_acc, val_acc))\n",
    "    \n",
    "            loss_hist.append(loss_)\n",
    "            val_acc_hist.append(val_acc)"
   ]
  },
  {
   "cell_type": "code",
   "execution_count": 225,
   "metadata": {},
   "outputs": [
    {
     "name": "stdout",
     "output_type": "stream",
     "text": [
      "Test Set Accuracy: 86.768\n"
     ]
    },
    {
     "data": {
      "image/png": "[encoded data removed]",
      "text/plain": [
       "<Figure size 432x288 with 1 Axes>"
      ]
     },
     "metadata": {},
     "output_type": "display_data"
    },
    {
     "data": {
      "image/png": "[encoded data removed]",
      "text/plain": [
       "<Figure size 432x288 with 1 Axes>"
      ]
     },
     "metadata": {},
     "output_type": "display_data"
    }
   ],
   "source": [
    "print(\"Test Set Accuracy: {}\".format(test_model(test_loader, model)))\n",
    "\n",
    "fig1 = plt.figure(1)\n",
    "plt.plot(loss_hist)\n",
    "plt.xlabel('Batch')\n",
    "plt.ylabel('Training Loss')\n",
    "plt.title('Training Loss')\n",
    "fig1.savefig('Training Loss.png', dpi = 100)\n",
    "plt.show()\n",
    "\n",
    "fig2 = plt.figure(2)\n",
    "plt.plot(val_acc_hist)\n",
    "plt.xlabel('Batch')\n",
    "plt.ylabel('Validation Accuracy')\n",
    "plt.title('Validation Accuracy')\n",
    "fig2.savefig('Validation Accuracy', dpi = 100)\n",
    "plt.show()"
   ]
  },
  {
   "cell_type": "code",
   "execution_count": 198,
   "metadata": {},
   "outputs": [],
   "source": [
    "data_batch, length_batch, label_batch = next(iter(val_loader))\n",
    "outputs = F.softmax(model(data_batch, length_batch), dim=1)\n",
    "predicted = outputs.max(1, keepdim=True)[1]\n",
    "correct = predicted.eq(label_batch.view_as(predicted))"
   ]
  },
  {
   "cell_type": "code",
   "execution_count": 226,
   "metadata": {
    "scrolled": false
   },
   "outputs": [
    {
     "name": "stdout",
     "output_type": "stream",
     "text": [
      "Three Correct Predictions:\n",
      "{0: \"worst films seen bad tv movie level standards plot diabolically flawed known names film wasted confused uncertain characters n't know director managed excuse film bad billed psychological horror thriller certainly horrific thrilling psychological damage initial opening scenes held promise possible <unk> soul aspect brain utter shambles followed car crash scene belief matter hard try n't care characters sprinkled ideas film best collage disconnected phrases chinese <unk> worst film actually brain <unk> purchased 300 films dvd 'm going money steer clear <pad> <pad> <pad> <pad> <pad> <pad> <pad> <pad> <pad> <pad> <pad> <pad> <pad> <pad> <pad> <pad> <pad> <pad> <pad> <pad> <pad> <pad> <pad> <pad> <pad> <pad> <pad> <pad> <pad> <pad> <pad> <pad> <pad> <pad> <pad> <pad> <pad> <pad> <pad> <pad> <pad> <pad> <pad> <pad> <pad> <pad> <pad> <pad> <pad> <pad> <pad> <pad> <pad> <pad> <pad> <pad> <pad> <pad> <pad> <pad> <pad> <pad> <pad> <pad> <pad> <pad> <pad> <pad> <pad> <pad> <pad> <pad> <pad> <pad> <pad> <pad> <pad> <pad> <pad> <pad> <pad> <pad> <pad> <pad> <pad> <pad> <pad> <pad> <pad> <pad> <pad> <pad> <pad> <pad> <pad> <pad> <pad> <pad> <pad> <pad> <pad> <pad> <pad> <pad> <pad> <pad> <pad> <pad> <pad> <pad> <pad> <pad> <pad> <pad> <pad> <pad> <pad> <pad> <pad> <pad>\", 1: \"problem child <unk> movies 's worst people disagree 's best 's devilish 7-year old boy wrecks comic havoc <unk> couple john ritter amy <unk> foolishly adopts film silly unbelievable n't buy second child act <unk> kid film 's asinine preposterous laugh times n't know n't recommend film know 'm kind positive thing problem child 's better sequel awful br <pad> <pad> <pad> <pad> <pad> <pad> <pad> <pad> <pad> <pad> <pad> <pad> <pad> <pad> <pad> <pad> <pad> <pad> <pad> <pad> <pad> <pad> <pad> <pad> <pad> <pad> <pad> <pad> <pad> <pad> <pad> <pad> <pad> <pad> <pad> <pad> <pad> <pad> <pad> <pad> <pad> <pad> <pad> <pad> <pad> <pad> <pad> <pad> <pad> <pad> <pad> <pad> <pad> <pad> <pad> <pad> <pad> <pad> <pad> <pad> <pad> <pad> <pad> <pad> <pad> <pad> <pad> <pad> <pad> <pad> <pad> <pad> <pad> <pad> <pad> <pad> <pad> <pad> <pad> <pad> <pad> <pad> <pad> <pad> <pad> <pad> <pad> <pad> <pad> <pad> <pad> <pad> <pad> <pad> <pad> <pad> <pad> <pad> <pad> <pad> <pad> <pad> <pad> <pad> <pad> <pad> <pad> <pad> <pad> <pad> <pad> <pad> <pad> <pad> <pad> <pad> <pad> <pad> <pad> <pad> <pad> <pad> <pad> <pad> <pad> <pad> <pad> <pad> <pad> <pad> <pad> <pad> <pad> <pad> <pad> <pad> <pad> <pad> <pad> <pad> <pad>\", 2: 'director makes great films poltergeist texas chainsaw massacre rubbish got film friend nt want bad classed horror know. 2/10 <pad> <pad> <pad> <pad> <pad> <pad> <pad> <pad> <pad> <pad> <pad> <pad> <pad> <pad> <pad> <pad> <pad> <pad> <pad> <pad> <pad> <pad> <pad> <pad> <pad> <pad> <pad> <pad> <pad> <pad> <pad> <pad> <pad> <pad> <pad> <pad> <pad> <pad> <pad> <pad> <pad> <pad> <pad> <pad> <pad> <pad> <pad> <pad> <pad> <pad> <pad> <pad> <pad> <pad> <pad> <pad> <pad> <pad> <pad> <pad> <pad> <pad> <pad> <pad> <pad> <pad> <pad> <pad> <pad> <pad> <pad> <pad> <pad> <pad> <pad> <pad> <pad> <pad> <pad> <pad> <pad> <pad> <pad> <pad> <pad> <pad> <pad> <pad> <pad> <pad> <pad> <pad> <pad> <pad> <pad> <pad> <pad> <pad> <pad> <pad> <pad> <pad> <pad> <pad> <pad> <pad> <pad> <pad> <pad> <pad> <pad> <pad> <pad> <pad> <pad> <pad> <pad> <pad> <pad> <pad> <pad> <pad> <pad> <pad> <pad> <pad> <pad> <pad> <pad> <pad> <pad> <pad> <pad> <pad> <pad> <pad> <pad> <pad> <pad> <pad> <pad> <pad> <pad> <pad> <pad> <pad> <pad> <pad> <pad> <pad> <pad> <pad> <pad> <pad> <pad> <pad> <pad> <pad> <pad> <pad> <pad> <pad> <pad> <pad> <pad> <pad> <pad> <pad> <pad> <pad> <pad> <pad> <pad> <pad> <pad> <pad> <pad> <pad> <pad> <pad> <pad>'}\n",
      "Three Incorrect Predictions:\n",
      "{26: \"superb <unk> remake gujarati play comes waqt looks like stage play br stage plays characters shouting overacting br half shows amitabh kidding 40 akshay kumar acts funny like small nerd br film good message spoil son sadly way amitabh wants <unk> responsible absolutely fake br reason hiding sickness <unk> hospital melodramatic speech <unk> br emotions touch br rajpal 's comedy hilarious stretched second half br direction vipul shah overdone scenes good music okay br actors amitabh overdoes half superb emotional scenes akshay kumar looks <unk> weepy scenes chemistry bachchan <unk> rajpal highlight makes laugh overacting presence dumb behaviour deadpan humour riot boman good comic parts loud places priyanka heroine film <unk> far shefali awesome looks young bachchan <pad> <pad> <pad> <pad> <pad> <pad> <pad> <pad> <pad> <pad> <pad> <pad> <pad> <pad> <pad> <pad> <pad> <pad> <pad> <pad> <pad> <pad> <pad> <pad> <pad> <pad> <pad> <pad> <pad> <pad> <pad> <pad> <pad> <pad> <pad> <pad> <pad> <pad> <pad> <pad> <pad> <pad> <pad> <pad> <pad> <pad> <pad> <pad> <pad> <pad> <pad> <pad> <pad> <pad> <pad> <pad> <pad> <pad> <pad> <pad> <pad> <pad> <pad> <pad> <pad> <pad> <pad> <pad> <pad> <pad> <pad> <pad> <pad> <pad> <pad> <pad> <pad> <pad> <pad> <pad> <pad> <pad> <pad>\", 27: \"n't know film meager rating imdb film accompanied curious blue <unk> thing let film n't like process film n't like psychology expecting hardcore pornographic <unk> n't film want watch <unk> 's film want like masterpiece time attention care. <unk> contain spoiler <unk> main thing film blends film film thing way forget <unk> n't real. film like films <unk> 1 political documentary social system sweden time lot ways relevant today interviews young woman named <unk> 2 narrative filmmaker <unk> sjoman making film ... deals relationship star film got involved people 's supposed work with. 3 film <unk> making 's young woman named <unk> 2 young politically active making documentary ie 1 coming age sexuality freedom that. magnificence sheer brilliance curious yellow blue elements cut moment watching interview politics watching interviewer scenes forget <unk> thing dynamic yellow blue blue sequel 'll try explain best knowledge films great technique. think yellow living thing actual events 14 scenes complete tale. think blue things 14 scenes yellow n't complete tale 's own. essentially parallel films ... story told different ways. n't saw 30 minutes blue fully understood <unk> br hope helpful people discouraged influences film changed way looked film. thanks time <pad> <pad> <pad> <pad>\", 28: 'beginning movie great suspenseful thrilling end gave answer happened mysteriously turned zombies raven crow answer questions good movie thought going <pad> <pad> <pad> <pad> <pad> <pad> <pad> <pad> <pad> <pad> <pad> <pad> <pad> <pad> <pad> <pad> <pad> <pad> <pad> <pad> <pad> <pad> <pad> <pad> <pad> <pad> <pad> <pad> <pad> <pad> <pad> <pad> <pad> <pad> <pad> <pad> <pad> <pad> <pad> <pad> <pad> <pad> <pad> <pad> <pad> <pad> <pad> <pad> <pad> <pad> <pad> <pad> <pad> <pad> <pad> <pad> <pad> <pad> <pad> <pad> <pad> <pad> <pad> <pad> <pad> <pad> <pad> <pad> <pad> <pad> <pad> <pad> <pad> <pad> <pad> <pad> <pad> <pad> <pad> <pad> <pad> <pad> <pad> <pad> <pad> <pad> <pad> <pad> <pad> <pad> <pad> <pad> <pad> <pad> <pad> <pad> <pad> <pad> <pad> <pad> <pad> <pad> <pad> <pad> <pad> <pad> <pad> <pad> <pad> <pad> <pad> <pad> <pad> <pad> <pad> <pad> <pad> <pad> <pad> <pad> <pad> <pad> <pad> <pad> <pad> <pad> <pad> <pad> <pad> <pad> <pad> <pad> <pad> <pad> <pad> <pad> <pad> <pad> <pad> <pad> <pad> <pad> <pad> <pad> <pad> <pad> <pad> <pad> <pad> <pad> <pad> <pad> <pad> <pad> <pad> <pad> <pad> <pad> <pad> <pad> <pad> <pad> <pad> <pad> <pad> <pad> <pad> <pad> <pad> <pad> <pad> <pad> <pad> <pad> <pad> <pad> <pad> <pad> <pad> <pad>'}\n"
     ]
    }
   ],
   "source": [
    "#Correct: IDX = 0, 1, 2\n",
    "#Incorrect: IDX = 26, 27, 28\n",
    "\n",
    "correct_idx = [0,1,2]\n",
    "incorrect_idx = [26,27,28]\n",
    "correct_dict = {}\n",
    "incorrect_dict = {}\n",
    "\n",
    "for i in correct_idx:\n",
    "    words = []\n",
    "    for j in data_batch[i]:\n",
    "        words.append(id2token[j])\n",
    "        sent = ' '.join(words)\n",
    "        correct_dict[i] = sent\n",
    "\n",
    "for i in incorrect_idx:\n",
    "    words = []\n",
    "    for j in data_batch[i]:\n",
    "        words.append(id2token[j])\n",
    "        sent = ' '.join(words)\n",
    "        incorrect_dict[i] = sent\n",
    "\n",
    "print(\"Three Correct Predictions:\\n{}\".format(correct_dict))\n",
    "print(\"Three Incorrect Predictions:\\n{}\".format(incorrect_dict))"
   ]
  }
 ],
 "metadata": {
  "kernelspec": {
   "display_name": "Python 3",
   "language": "python",
   "name": "python3"
  },
  "language_info": {
   "codemirror_mode": {
    "name": "ipython",
    "version": 3
   },
   "file_extension": ".py",
   "mimetype": "text/x-python",
   "name": "python",
   "nbconvert_exporter": "python",
   "pygments_lexer": "ipython3",
   "version": "3.6.5"
  }
 },
 "nbformat": 4,
 "nbformat_minor": 2
}
